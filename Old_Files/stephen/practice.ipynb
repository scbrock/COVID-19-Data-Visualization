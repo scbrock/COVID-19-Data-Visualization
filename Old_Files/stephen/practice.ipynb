{
 "cells": [
  {
   "cell_type": "code",
   "execution_count": 102,
   "metadata": {},
   "outputs": [],
   "source": [
    "# Starting code\n",
    "\n",
    "import numpy as np\n",
    "\n",
    "def mutual_information(arr):\n",
    "    \n",
    "    try:\n",
    "        arr.shape\n",
    "    except Exception as e:\n",
    "        return -1\n",
    "\n",
    "    arr_logs = np.log(arr)\n",
    "\n",
    "    pi = np.sum(arr, axis=1)\n",
    "    pj = np.sum(arr, axis=0)\n",
    "\n",
    "    log_pi = np.log(pi)\n",
    "    log_pj = np.log(pj)\n",
    "\n",
    "    ans = 0\n",
    "    t1 = np.sum(np.multiply(arr_logs[arr != 0], arr[arr != 0]))\n",
    "    t2 = np.sum(np.multiply(pi[pi != 0], log_pi[pi != 0]))\n",
    "    t3 = np.sum(np.multiply(pj[pj != 0], log_pj[pj != 0]))\n",
    "    \n",
    "    ans = t1-t2-t3\n",
    "\n",
    "    return ans"
   ]
  },
  {
   "cell_type": "code",
   "execution_count": 110,
   "metadata": {},
   "outputs": [
    {
     "data": {
      "text/plain": [
       "-178.01812265332433"
      ]
     },
     "execution_count": 110,
     "metadata": {},
     "output_type": "execute_result"
    }
   ],
   "source": [
    "arr = np.random.rand(100,1)\n",
    "arr2 = np.zeros((100000,1000000))\n",
    "arr2 = [[]]\n",
    "mutual_information(arr)"
   ]
  },
  {
   "cell_type": "code",
   "execution_count": 111,
   "metadata": {},
   "outputs": [
    {
     "name": "stdout",
     "output_type": "stream",
     "text": [
      "[[-inf -inf -inf -inf -inf]\n",
      " [-inf -inf -inf -inf -inf]\n",
      " [-inf -inf -inf -inf -inf]\n",
      " [-inf -inf -inf -inf -inf]\n",
      " [-inf -inf -inf -inf -inf]]\n"
     ]
    },
    {
     "name": "stderr",
     "output_type": "stream",
     "text": [
      "/Users/stephenbrock/anaconda3/lib/python3.6/site-packages/ipykernel_launcher.py:4: RuntimeWarning: divide by zero encountered in log\n",
      "  after removing the cwd from sys.path.\n"
     ]
    }
   ],
   "source": [
    "arr = [[1,0,3],[4,5,6],[7,8,9]]\n",
    "\n",
    "arr2 = np.zeros((5,5))\n",
    "print(np.log(arr2))"
   ]
  },
  {
   "cell_type": "code",
   "execution_count": 100,
   "metadata": {},
   "outputs": [],
   "source": [
    "def solution(S, C):\n",
    "    '''\n",
    "    function to solve Task 2\n",
    "    '''\n",
    "    # write your code in Python 3.6\n",
    "\n",
    "    # create a list of lists where each entry of the big list is a list of costs\n",
    "    # min cost at a point\n",
    "\n",
    "    # preprocess string S to get a list of lists, each entry of the list is for the same letters\n",
    "    # have a min so far to keep track to the min costs for each letter values\n",
    "\n",
    "    if S == '' or len(C) == 0:\n",
    "        return 0\n",
    "\n",
    "    min_costs = list()\n",
    "    min_cost = 0\n",
    "    curr_costs = None # list of costs\n",
    "    curr_size = None\n",
    "    curr_letter = None\n",
    "    for i, e in enumerate(S):\n",
    "        # initialize\n",
    "        if curr_costs is None:\n",
    "            curr_costs = [C[i]]\n",
    "            curr_size = 1\n",
    "            curr_letter = e\n",
    "            continue\n",
    "        \n",
    "        if e == curr_letter:\n",
    "            curr_size += 1\n",
    "            curr_costs.append(C[i])\n",
    "\n",
    "        else:\n",
    "            # if last size was 1, min_cost is 0\n",
    "            if curr_size == 1:\n",
    "                min_costs.append(0)\n",
    "                min_cost += 0\n",
    "            \n",
    "            else:\n",
    "                # append min cost and reset values\n",
    "                min_costs.append(sum(curr_costs) - max(curr_costs))\n",
    "                min_cost += sum(curr_costs) - max(curr_costs)\n",
    "\n",
    "            curr_costs = [C[i]]\n",
    "            curr_size = 1\n",
    "            curr_letter = e\n",
    "        \n",
    "        if i == len(S)-1:\n",
    "            # last letter so save work so far\n",
    "            if curr_size == 1:\n",
    "                #min_costs.append(0)\n",
    "                min_cost += 0\n",
    "            \n",
    "            else:\n",
    "                # append min cost and reset values\n",
    "                #print('appending costs')\n",
    "                min_costs.append(sum(curr_costs) - max(curr_costs))\n",
    "                min_cost += sum(curr_costs) - max(curr_costs)\n",
    "\n",
    "            curr_costs = [C[i]]\n",
    "            curr_size = 1\n",
    "            curr_letter = e\n",
    "    \n",
    "    return sum(min_costs), min_cost"
   ]
  },
  {
   "cell_type": "code",
   "execution_count": 101,
   "metadata": {},
   "outputs": [
    {
     "name": "stdout",
     "output_type": "stream",
     "text": [
      "(6, 6)\n",
      "(0, 0)\n",
      "(0, 0)\n",
      "(26, 26)\n"
     ]
    }
   ],
   "source": [
    "s1 = 'aabbcc'\n",
    "c1 = [0,1,2,3,4,5]\n",
    "s2 = 'abbcccc'\n",
    "c2 = [0,0,0,0,0,0,0]\n",
    "\n",
    "s3 = 'abababababab'\n",
    "c3 = [2,3,1,1,4,4,2,3,1,1,4,4]\n",
    "s4 = 'a'*12\n",
    "c4 = [2,3,1,1,4,4,2,3,1,1,5,4]\n",
    "\n",
    "print(solution(s1,c1))\n",
    "print(solution(s2,c2))\n",
    "print(solution(s3,c3))\n",
    "print(solution(s4,c4))"
   ]
  },
  {
   "cell_type": "code",
   "execution_count": 99,
   "metadata": {},
   "outputs": [
    {
     "data": {
      "text/plain": [
       "31"
      ]
     },
     "execution_count": 99,
     "metadata": {},
     "output_type": "execute_result"
    }
   ],
   "source": [
    "sum(c4)"
   ]
  },
  {
   "cell_type": "code",
   "execution_count": 80,
   "metadata": {},
   "outputs": [],
   "source": [
    "def solution(A, K, L):\n",
    "    # write your code in Python 3.6\n",
    "    \n",
    "    n = len(A)\n",
    "    if K+L > n:\n",
    "        return -1\n",
    "    \n",
    "    a = K\n",
    "    b = L\n",
    "    # consider the case when a > b and when b < a\n",
    "    # code helper for case when a > b\n",
    "    def helper(A,a,b,n):\n",
    "        '''\n",
    "        same task, but assum a > b\n",
    "        '''\n",
    "\n",
    "        # do a running sum over the array A[:-b]\n",
    "        # calculate max from left for a \n",
    "\n",
    "        # calculate max from right for b\n",
    "        # elementwise sum\n",
    "        # take max of the sum and return\n",
    "\n",
    "        lr_max = [-1]*n\n",
    "        lr_msf = -1\n",
    "        lr_sum = 0\n",
    "        #lr_cnt = 0\n",
    "        for i, e in enumerate(A):\n",
    "            if i < a-1:\n",
    "                continue\n",
    "                # less than enough trees\n",
    "                # lr_sum += e\n",
    "\n",
    "                # lr_msf = max(lr_msf, lr_sum)\n",
    "                # lr_max[i] = lr_msf\n",
    "            elif i == a-1:\n",
    "                lr_sum = sum(A[:a])\n",
    "                lr_msf = lr_sum\n",
    "                lr_max[i] = lr_msf\n",
    "            else:\n",
    "                # need to remove earliest tree\n",
    "                lr_sum = lr_sum - A[i-a] + A[i]\n",
    "                lr_msf = max(lr_msf, lr_sum)\n",
    "                lr_max[i] = lr_msf\n",
    "\n",
    "        # reverse A and do it for b\n",
    "        rl_max = [-1]*n\n",
    "        rl_msf = -1\n",
    "        rl_sum = 0\n",
    "        B = A[::-1]\n",
    "        for i, e in enumerate(B):\n",
    "            if i < b-1:\n",
    "                continue\n",
    "                # less than enough trees\n",
    "                # rl_sum += e\n",
    "                # rl_msf = max(rl_msf, rl_sum)\n",
    "                # rl_max[i] = rl_msf\n",
    "            elif i == b-1:\n",
    "                rl_sum = sum(B[:b])\n",
    "                rl_msf = rl_sum\n",
    "                rl_max[i] = rl_msf\n",
    "            else:\n",
    "                # need to remove earliest tree\n",
    "                rl_sum = rl_sum - B[i-b] + B[i]\n",
    "                rl_msf = max(rl_msf, rl_sum)\n",
    "                rl_max[i] = rl_msf\n",
    "\n",
    "        # reverse back the rl list\n",
    "        rl_max = rl_max[::-1]\n",
    "\n",
    "        sub = []\n",
    "        for i in range(n):\n",
    "            if i < a-1 or i >= n-b:\n",
    "                continue\n",
    "            else:\n",
    "                sub.append(lr_max[i]+rl_max[i+1])\n",
    "        #print(lr_max)\n",
    "        #print(rl_max)\n",
    "\n",
    "        return max(sub) if sub else -1\n",
    "\n",
    "    ab = helper(A,a,b,n)\n",
    "    ba = helper(A,b,a,n)\n",
    "    \n",
    "    return max(ab,ba)"
   ]
  },
  {
   "cell_type": "code",
   "execution_count": 81,
   "metadata": {},
   "outputs": [
    {
     "data": {
      "text/plain": [
       "24"
      ]
     },
     "execution_count": 81,
     "metadata": {},
     "output_type": "execute_result"
    }
   ],
   "source": [
    "solution([6, 1, 4, 6, 3, 2, 7, 4], 3, 2)"
   ]
  },
  {
   "cell_type": "code",
   "execution_count": 87,
   "metadata": {},
   "outputs": [
    {
     "name": "stdout",
     "output_type": "stream",
     "text": [
      "[2 3] 1 2 -1\n",
      "[6 9] 1 2 -1\n",
      "[7 6] 1 2 -1\n",
      "[7 5] 1 2 -1\n",
      "[6 6] 1 2 -1\n"
     ]
    }
   ],
   "source": [
    "#arr1 = np.random.randint(0,10,10)\n",
    "\n",
    "# arr = [2, 6, 2, 4, 1, 2]\n",
    "# a=3 \n",
    "# b=3 \n",
    "# #19\n",
    "# solution(arr,a,b )\n",
    "\n",
    "for a in range(5):\n",
    "    arr1 = np.random.randint(0,10,2)\n",
    "    a = np.random.randint(1,2,1)[0]\n",
    "    b = 3-a\n",
    "    print(arr1,a,b,solution(arr1,a,b))\n"
   ]
  },
  {
   "cell_type": "code",
   "execution_count": null,
   "metadata": {},
   "outputs": [],
   "source": []
  }
 ],
 "metadata": {
  "kernelspec": {
   "display_name": "Python 3",
   "language": "python",
   "name": "python3"
  },
  "language_info": {
   "codemirror_mode": {
    "name": "ipython",
    "version": 3
   },
   "file_extension": ".py",
   "mimetype": "text/x-python",
   "name": "python",
   "nbconvert_exporter": "python",
   "pygments_lexer": "ipython3",
   "version": "3.6.4"
  }
 },
 "nbformat": 4,
 "nbformat_minor": 2
}
